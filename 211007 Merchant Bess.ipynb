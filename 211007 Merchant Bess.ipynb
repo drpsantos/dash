{
 "cells": [
  {
   "cell_type": "markdown",
   "source": [
    "# Required Modules\r\n",
    "If there are errors, please execute:\r\n",
    "<br/>conda install numpy\r\n",
    "<br/>conda install prettytable"
   ],
   "metadata": {}
  },
  {
   "cell_type": "code",
   "execution_count": 24,
   "source": [
    "import numpy as np\r\n",
    "from prettytable import PrettyTable"
   ],
   "outputs": [],
   "metadata": {}
  },
  {
   "cell_type": "markdown",
   "source": [
    "## Import WESM Data"
   ],
   "metadata": {}
  },
  {
   "cell_type": "code",
   "execution_count": null,
   "source": [
    "WESM_price = np.genfromtxt('210607 RC WESM Forecast.csv',dtype=float,delimiter=',',skip_header=1)"
   ],
   "outputs": [],
   "metadata": {}
  },
  {
   "cell_type": "markdown",
   "source": [
    "## Please Configure Hours Charging & Discharging"
   ],
   "metadata": {}
  },
  {
   "cell_type": "code",
   "execution_count": 31,
   "source": [
    "battery_mwh = 8480\r\n",
    "battery_mw = 2500\r\n",
    "\r\n",
    "# Full Hour Charge\r\n",
    "charge = np.array([3])\r\n",
    "# Partial Charge\r\n",
    "pcr = np.array([0.392])\r\n",
    "# Full Hour Discharge\r\n",
    "discharge = np.array([3])\r\n",
    "# Partial Discharge\r\n",
    "pdr = np.array([0.25])\r\n",
    "\r\n",
    "start_year = 2022\r\n",
    "end_year = 2045"
   ],
   "outputs": [],
   "metadata": {}
  },
  {
   "cell_type": "markdown",
   "source": [
    "#### Main Calculation Function"
   ],
   "metadata": {}
  },
  {
   "cell_type": "code",
   "execution_count": 37,
   "source": [
    "def calculatePerformanceWESMCharging(year_iter,case,activity_interval):\r\n",
    "    i=0\r\n",
    "    WESM_this_year = WESM_price[:,year_iter]\r\n",
    "    charge_time = charge[case]\r\n",
    "    discharge_time = discharge[case]\r\n",
    "    partial_charge_rate = pcr[case]\r\n",
    "    partial_discharge_rate = pdr[case]\r\n",
    "    this_year = start_year + year_iter\r\n",
    "    charge_hours = int(np.ceil(charge_time+partial_charge_rate))\r\n",
    "    discharge_hours = int(np.ceil(discharge_time+partial_discharge_rate))\r\n",
    "    bs_charge = 0\r\n",
    "    bs_pcharge = 0\r\n",
    "    bs_discharge = 0\r\n",
    "    bs_pdischarge=0\r\n",
    "    charge_cycles = 0\r\n",
    "    discharge_cycles = 0\r\n",
    "    income = 0\r\n",
    "    cost = 0\r\n",
    "    #print(WESM_this_year)\r\n",
    "    battery_state = np.zeros(shape=8760, dtype=int)\r\n",
    "    while(i!=len(battery_state)):\r\n",
    "        try: \r\n",
    "            charge_window = WESM_this_year[i:i+16]\r\n",
    "            #print(charge_window)\r\n",
    "            cindex = (charge_window).argsort()[:charge_hours]\r\n",
    "            #print(cindex)\r\n",
    "            for j in range(0,len(cindex)):\r\n",
    "                this_index = i+cindex[j]\r\n",
    "                if j == (len(cindex)-1) and partial_charge_rate>0.0:\r\n",
    "                    battery_state[this_index] = 2\r\n",
    "                    bs_pcharge = bs_pcharge + 1\r\n",
    "                    cost = cost+(WESM_this_year[this_index]*partial_charge_rate)\r\n",
    "                else:\r\n",
    "                    battery_state[this_index] = 1 # Charging\r\n",
    "                    bs_charge = bs_charge+1\r\n",
    "                    cost = cost + (WESM_this_year[this_index])\r\n",
    "            charge_cycles = charge_cycles + 1\r\n",
    "\r\n",
    "            #print(battery_state[0:24])\r\n",
    "            i = i+np.amax(cindex)+1\r\n",
    "            #print(i)\r\n",
    "\r\n",
    "            discharge_window = WESM_this_year[i:i+activity_interval]\r\n",
    "            #print(discharge_window)\r\n",
    "            dindex = (-discharge_window).argsort()[:discharge_hours]\r\n",
    "            #print(dindex)\r\n",
    "            for j in range(0,len(dindex)):\r\n",
    "                this_index = i+dindex[j]\r\n",
    "                if j == (len(dindex)-1) and partial_discharge_rate>0.0:\r\n",
    "                    battery_state[this_index] = 4\r\n",
    "                    bs_pdischarge = bs_pdischarge + 1\r\n",
    "                    income = income+(WESM_this_year[this_index]*partial_discharge_rate)\r\n",
    "                else:\r\n",
    "                    battery_state[this_index] = 3 # Discharging\r\n",
    "                    bs_discharge = bs_discharge + 1\r\n",
    "                    income = income + (WESM_this_year[this_index])\r\n",
    "            #print(battery_state[0:24])\r\n",
    "            discharge_cycles = discharge_cycles+1\r\n",
    "            i = i+np.amax(dindex)+1\r\n",
    "        #print(i)\r\n",
    "        except Exception as e:\r\n",
    "            #print(i,'//',e)\r\n",
    "            break\r\n",
    "    count_hours = np.bincount(battery_state)\r\n",
    "    hours_charging = bs_charge + partial_charge_rate*bs_pcharge\r\n",
    "    hours_discharging = bs_discharge + partial_discharge_rate*bs_pdischarge\r\n",
    "    hours_idle = 8760 - (hours_charging+hours_discharging)\r\n",
    "    profit = income - cost\r\n",
    "    results = np.array([this_year,(charge_time+partial_charge_rate),(discharge_time+partial_discharge_rate),activity_interval,hours_charging, hours_discharging,hours_idle,charge_cycles,discharge_cycles,round(cost,2),round(income,2),round(profit,2)])\r\n",
    "    return results\r\n"
   ],
   "outputs": [],
   "metadata": {}
  },
  {
   "cell_type": "code",
   "execution_count": 36,
   "source": [
    "x = PrettyTable()\r\n",
    "x.field_names = [\"Year\",\"Charge Time\",\"Discharge Time\",\"Activity Interval\",\"Hours Charging\",\"Hours Discharging\",\"Hours Idle\",\"Charge Cycles\",\"Discharge Cycles\",\"Cost\",\"Income\",\"Profit\"]\r\n",
    "for i in range(0,(end_year-start_year+1)):\r\n",
    "    result = calculatePerformanceWESMCharging(i,0,16)\r\n",
    "    x.add_row(result)\r\n",
    "print(x)"
   ],
   "outputs": [
    {
     "output_type": "stream",
     "name": "stdout",
     "text": [
      "+--------+-------------+----------------+-------------------+----------------+-------------------+------------+---------------+------------------+---------+---------+---------+\n",
      "|  Year  | Charge Time | Discharge Time | Activity Interval | Hours Charging | Hours Discharging | Hours Idle | Charge Cycles | Discharge Cycles |   Cost  |  Income |  Profit |\n",
      "+--------+-------------+----------------+-------------------+----------------+-------------------+------------+---------------+------------------+---------+---------+---------+\n",
      "| 2022.0 |    3.392    |      3.25      |        16.0       |    1241.472    |      1186.25      |  6332.278  |     366.0     |      366.0       | 2451.84 |  6569.9 | 4118.06 |\n",
      "| 2023.0 |    3.392    |      3.25      |        16.0       |    1241.472    |      1186.25      |  6332.278  |     366.0     |      366.0       | 2295.49 | 7399.74 | 5104.25 |\n",
      "| 2024.0 |    3.392    |      3.25      |        16.0       |    1241.472    |      1186.25      |  6332.278  |     366.0     |      366.0       |  2411.4 | 7822.53 | 5411.13 |\n",
      "| 2025.0 |    3.392    |      3.25      |        16.0       |    1241.472    |      1186.25      |  6332.278  |     366.0     |      366.0       | 2560.28 | 8390.66 | 5830.37 |\n",
      "| 2026.0 |    3.392    |      3.25      |        16.0       |    1241.472    |      1186.25      |  6332.278  |     366.0     |      366.0       | 3112.48 | 9185.77 | 6073.28 |\n",
      "| 2027.0 |    3.392    |      3.25      |        16.0       |    1241.472    |      1186.25      |  6332.278  |     366.0     |      366.0       | 3181.75 |  8674.2 | 5492.46 |\n",
      "| 2028.0 |    3.392    |      3.25      |        16.0       |    1241.472    |      1186.25      |  6332.278  |     366.0     |      366.0       | 3234.27 | 8609.88 | 5375.61 |\n",
      "| 2029.0 |    3.392    |      3.25      |        16.0       |    1241.472    |      1186.25      |  6332.278  |     366.0     |      366.0       | 3196.77 | 8286.45 | 5089.67 |\n",
      "| 2030.0 |    3.392    |      3.25      |        16.0       |    1241.472    |      1186.25      |  6332.278  |     366.0     |      366.0       | 3032.07 | 7601.81 | 4569.74 |\n",
      "| 2031.0 |    3.392    |      3.25      |        16.0       |    1241.472    |      1186.25      |  6332.278  |     366.0     |      366.0       | 3093.02 | 7610.03 | 4517.01 |\n",
      "| 2032.0 |    3.392    |      3.25      |        16.0       |    1241.472    |      1186.25      |  6332.278  |     366.0     |      366.0       | 3135.39 | 7567.56 | 4432.16 |\n",
      "| 2033.0 |    3.392    |      3.25      |        16.0       |    1241.472    |      1186.25      |  6332.278  |     366.0     |      366.0       | 3181.53 | 7540.19 | 4358.66 |\n",
      "| 2034.0 |    3.392    |      3.25      |        16.0       |    1241.472    |      1186.25      |  6332.278  |     366.0     |      366.0       | 3103.55 | 7950.12 | 4846.56 |\n",
      "| 2035.0 |    3.392    |      3.25      |        16.0       |    1241.472    |      1186.25      |  6332.278  |     366.0     |      366.0       | 3150.03 | 7941.75 | 4791.72 |\n",
      "| 2036.0 |    3.392    |      3.25      |        16.0       |    1241.472    |      1186.25      |  6332.278  |     366.0     |      366.0       | 3200.37 | 7945.93 | 4745.56 |\n",
      "| 2037.0 |    3.392    |      3.25      |        16.0       |    1241.472    |      1186.25      |  6332.278  |     366.0     |      366.0       | 3254.56 | 7962.73 | 4708.17 |\n",
      "| 2038.0 |    3.392    |      3.25      |        16.0       |    1241.472    |      1186.25      |  6332.278  |     366.0     |      366.0       | 3312.32 | 7990.54 | 4678.22 |\n",
      "| 2039.0 |    3.392    |      3.25      |        16.0       |    1241.472    |      1186.25      |  6332.278  |     366.0     |      366.0       | 3392.94 | 8077.69 | 4684.75 |\n",
      "| 2040.0 |    3.392    |      3.25      |        16.0       |    1241.472    |      1186.25      |  6332.278  |     366.0     |      366.0       | 3457.91 | 8125.88 | 4667.97 |\n",
      "| 2041.0 |    3.392    |      3.25      |        16.0       |    1241.472    |      1186.25      |  6332.278  |     366.0     |      366.0       | 3526.61 | 8180.74 | 4654.13 |\n",
      "| 2042.0 |    3.392    |      3.25      |        16.0       |    1241.472    |      1186.25      |  6332.278  |     366.0     |      366.0       | 3282.66 |  7860.3 | 4577.64 |\n",
      "| 2043.0 |    3.392    |      3.25      |        16.0       |    1241.472    |      1186.25      |  6332.278  |     366.0     |      366.0       | 3344.91 | 7874.54 | 4529.63 |\n",
      "| 2044.0 |    3.392    |      3.25      |        16.0       |    1241.472    |      1186.25      |  6332.278  |     366.0     |      366.0       | 3427.39 |  7896.0 |  4468.6 |\n",
      "| 2045.0 |    3.392    |      3.25      |        16.0       |    1241.472    |      1186.25      |  6332.278  |     366.0     |      366.0       | 3508.37 | 7889.62 | 4381.25 |\n",
      "+--------+-------------+----------------+-------------------+----------------+-------------------+------------+---------------+------------------+---------+---------+---------+\n"
     ]
    }
   ],
   "metadata": {}
  }
 ],
 "metadata": {
  "orig_nbformat": 4,
  "language_info": {
   "name": "python",
   "version": "3.9.5",
   "mimetype": "text/x-python",
   "codemirror_mode": {
    "name": "ipython",
    "version": 3
   },
   "pygments_lexer": "ipython3",
   "nbconvert_exporter": "python",
   "file_extension": ".py"
  },
  "kernelspec": {
   "name": "python3",
   "display_name": "Python 3.9.5 64-bit ('base': conda)"
  },
  "interpreter": {
   "hash": "ecf5722fdaf1897a315d257d89d94520bfcaa453217d5becf09b39e73618b0de"
  }
 },
 "nbformat": 4,
 "nbformat_minor": 2
}